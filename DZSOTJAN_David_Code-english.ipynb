{
 "cells": [
  {
   "cell_type": "markdown",
   "metadata": {},
   "source": [
    "# 1. Description of the problem and importing libraries"
   ]
  },
  {
   "cell_type": "markdown",
   "metadata": {},
   "source": [
    "In recent years, bike sharing services are gradually becoming an integral part of city life. More and more people realise the advantages of being able to avoid traffic jams while getting some free cardio training. For the smooth functioning of such a system, it is imperative that the docking stations contain the appropriate number of bikes for the public to use: not too many (for cost efficiency), but also not too few (for customer satisfaction).\n",
    "\n",
    "In this example, we will implement machine learning to predict the number of rented bikes at a given hour on a given day of the year. \n",
    "\n",
    "As a first step, we import the libraries for data exploration and for constructing our predictive model. Since we aim to predict the number of the rented bikes, we have a regression problem on our hands. Also, as we will see below, most of the important features (for example **year**, **month**, **weather** **workingday**, **holiday**, etc) assume only a few discreet values, so a decision tree based model, like the *Random Forest Regressor*, is a convenient and sensible choice. Using several, decorrelated decision trees, it will also help to avoid overfitting the data set. In order to perform cross-validation on the ensemble, we import *GridSearchCV*."
   ]
  },
  {
   "cell_type": "code",
   "execution_count": 21,
   "metadata": {
    "collapsed": true
   },
   "outputs": [],
   "source": [
    "# Linear algebra, data manipulation and data visualization\n",
    "\n",
    "import numpy as np\n",
    "import pandas as pd\n",
    "\n",
    "import matplotlib.pyplot as plt\n",
    "import seaborn as sns\n",
    "\n",
    "sns.set()\n",
    "sns.set_context('talk')\n",
    "#sns.set_style('whitegrid')\n",
    "%matplotlib inline\n",
    "\n",
    "# Library for dates and times\n",
    "import datetime\n",
    "\n",
    "# Modelling\n",
    "\n",
    "# Creating polynomial features and scaling the feature matrix values to [-1, 1]\n",
    "# from sklearn.preprocessing import PolynomialFeatures\n",
    "# from sklearn.preprocessing import MaxAbsScaler\n",
    "\n",
    "# Polynomial regression classifier\n",
    "# from sklearn.linear_model import Ridge\n",
    "\n",
    "# Random Forest Regressor\n",
    "from sklearn.ensemble import RandomForestRegressor\n",
    "\n",
    "# Pipeline for chaining transformers and classifier\n",
    "# from sklearn.pipeline import make_pipeline\n",
    "\n",
    "# We'll need to split the data set into train and test sets, as well as\n",
    "# scan along several parameters and select the best model by cross-validation\n",
    "from sklearn.model_selection import train_test_split\n",
    "from sklearn.model_selection import GridSearchCV\n"
   ]
  },
  {
   "cell_type": "markdown",
   "metadata": {},
   "source": [
    "# 2. Loading the data set and transformations"
   ]
  },
  {
   "cell_type": "markdown",
   "metadata": {},
   "source": [
    "Let us read in the data set and take a first look at the features."
   ]
  },
  {
   "cell_type": "code",
   "execution_count": 3,
   "metadata": {
    "collapsed": true
   },
   "outputs": [],
   "source": [
    "train_df = pd.read_csv('data.csv', header=0)"
   ]
  },
  {
   "cell_type": "code",
   "execution_count": 4,
   "metadata": {},
   "outputs": [
    {
     "data": {
      "text/html": [
       "<div>\n",
       "<style>\n",
       "    .dataframe thead tr:only-child th {\n",
       "        text-align: right;\n",
       "    }\n",
       "\n",
       "    .dataframe thead th {\n",
       "        text-align: left;\n",
       "    }\n",
       "\n",
       "    .dataframe tbody tr th {\n",
       "        vertical-align: top;\n",
       "    }\n",
       "</style>\n",
       "<table border=\"1\" class=\"dataframe\">\n",
       "  <thead>\n",
       "    <tr style=\"text-align: right;\">\n",
       "      <th></th>\n",
       "      <th>datetime</th>\n",
       "      <th>season</th>\n",
       "      <th>holiday</th>\n",
       "      <th>workingday</th>\n",
       "      <th>weather</th>\n",
       "      <th>temp</th>\n",
       "      <th>atemp</th>\n",
       "      <th>humidity</th>\n",
       "      <th>windspeed</th>\n",
       "      <th>casual</th>\n",
       "      <th>registered</th>\n",
       "      <th>count</th>\n",
       "    </tr>\n",
       "  </thead>\n",
       "  <tbody>\n",
       "    <tr>\n",
       "      <th>0</th>\n",
       "      <td>2011-01-01 00:00:00</td>\n",
       "      <td>1</td>\n",
       "      <td>0</td>\n",
       "      <td>0</td>\n",
       "      <td>1</td>\n",
       "      <td>9.84</td>\n",
       "      <td>14.395</td>\n",
       "      <td>81</td>\n",
       "      <td>0.0</td>\n",
       "      <td>3</td>\n",
       "      <td>13</td>\n",
       "      <td>16</td>\n",
       "    </tr>\n",
       "    <tr>\n",
       "      <th>1</th>\n",
       "      <td>2011-01-01 01:00:00</td>\n",
       "      <td>1</td>\n",
       "      <td>0</td>\n",
       "      <td>0</td>\n",
       "      <td>1</td>\n",
       "      <td>9.02</td>\n",
       "      <td>13.635</td>\n",
       "      <td>80</td>\n",
       "      <td>0.0</td>\n",
       "      <td>8</td>\n",
       "      <td>32</td>\n",
       "      <td>40</td>\n",
       "    </tr>\n",
       "    <tr>\n",
       "      <th>2</th>\n",
       "      <td>2011-01-01 02:00:00</td>\n",
       "      <td>1</td>\n",
       "      <td>0</td>\n",
       "      <td>0</td>\n",
       "      <td>1</td>\n",
       "      <td>9.02</td>\n",
       "      <td>13.635</td>\n",
       "      <td>80</td>\n",
       "      <td>0.0</td>\n",
       "      <td>5</td>\n",
       "      <td>27</td>\n",
       "      <td>32</td>\n",
       "    </tr>\n",
       "    <tr>\n",
       "      <th>3</th>\n",
       "      <td>2011-01-01 03:00:00</td>\n",
       "      <td>1</td>\n",
       "      <td>0</td>\n",
       "      <td>0</td>\n",
       "      <td>1</td>\n",
       "      <td>9.84</td>\n",
       "      <td>14.395</td>\n",
       "      <td>75</td>\n",
       "      <td>0.0</td>\n",
       "      <td>3</td>\n",
       "      <td>10</td>\n",
       "      <td>13</td>\n",
       "    </tr>\n",
       "    <tr>\n",
       "      <th>4</th>\n",
       "      <td>2011-01-01 04:00:00</td>\n",
       "      <td>1</td>\n",
       "      <td>0</td>\n",
       "      <td>0</td>\n",
       "      <td>1</td>\n",
       "      <td>9.84</td>\n",
       "      <td>14.395</td>\n",
       "      <td>75</td>\n",
       "      <td>0.0</td>\n",
       "      <td>0</td>\n",
       "      <td>1</td>\n",
       "      <td>1</td>\n",
       "    </tr>\n",
       "  </tbody>\n",
       "</table>\n",
       "</div>"
      ],
      "text/plain": [
       "              datetime  season  holiday  workingday  weather  temp   atemp  \\\n",
       "0  2011-01-01 00:00:00       1        0           0        1  9.84  14.395   \n",
       "1  2011-01-01 01:00:00       1        0           0        1  9.02  13.635   \n",
       "2  2011-01-01 02:00:00       1        0           0        1  9.02  13.635   \n",
       "3  2011-01-01 03:00:00       1        0           0        1  9.84  14.395   \n",
       "4  2011-01-01 04:00:00       1        0           0        1  9.84  14.395   \n",
       "\n",
       "   humidity  windspeed  casual  registered  count  \n",
       "0        81        0.0       3          13     16  \n",
       "1        80        0.0       8          32     40  \n",
       "2        80        0.0       5          27     32  \n",
       "3        75        0.0       3          10     13  \n",
       "4        75        0.0       0           1      1  "
      ]
     },
     "execution_count": 4,
     "metadata": {},
     "output_type": "execute_result"
    }
   ],
   "source": [
    "train_df.head()"
   ]
  },
  {
   "cell_type": "markdown",
   "metadata": {},
   "source": [
    "* **datetime** gives the year, month, day, hour, minute, second of the obsevation\n",
    "* **season** gives the season: *1: spring*, *2: summer*, *3: autumn*, *4: winter*\n",
    "* **holiday** shows if the day was a school holiday (not necessarily a weekend!)\n",
    "* **workingday** tells if the day was a work day\n",
    "* **weather** indicates if it was *1: clear or cloudy*, *2: misty*, *3: light rain or snow*, *4: Heavy rains or snow*\n",
    "* **temp** shows the actual temperature\n",
    "* **atemp** gives the \"feels like\" temperature \n",
    "* **humidity** \n",
    "* **windspeed** tells the wind velocity\n",
    "* **casual** is the amount of casual rents\n",
    "* **registered** shows the amount of bikes taken  by subscription\n",
    "* **count** is the sum of **casual** and **registered**"
   ]
  },
  {
   "cell_type": "markdown",
   "metadata": {},
   "source": [
    "The variable we aim to predict is **count**. However, the total number of rented bikes is the sum of two other features: **casual** and **registered**. It might be worthwhile to examine the trends of these two features separately because the behaviour of casual and registered users might differ significantly!  "
   ]
  },
  {
   "cell_type": "markdown",
   "metadata": {},
   "source": [
    "Let's take a quick look at the completness of the dataset, whether there are any missing or invalid values."
   ]
  },
  {
   "cell_type": "code",
   "execution_count": 5,
   "metadata": {},
   "outputs": [
    {
     "name": "stdout",
     "output_type": "stream",
     "text": [
      "<class 'pandas.core.frame.DataFrame'>\n",
      "RangeIndex: 10886 entries, 0 to 10885\n",
      "Data columns (total 12 columns):\n",
      "datetime      10886 non-null object\n",
      "season        10886 non-null int64\n",
      "holiday       10886 non-null int64\n",
      "workingday    10886 non-null int64\n",
      "weather       10886 non-null int64\n",
      "temp          10886 non-null float64\n",
      "atemp         10886 non-null float64\n",
      "humidity      10886 non-null int64\n",
      "windspeed     10886 non-null float64\n",
      "casual        10886 non-null int64\n",
      "registered    10886 non-null int64\n",
      "count         10886 non-null int64\n",
      "dtypes: float64(3), int64(8), object(1)\n",
      "memory usage: 1020.6+ KB\n"
     ]
    }
   ],
   "source": [
    "train_df.info()"
   ]
  },
  {
   "cell_type": "markdown",
   "metadata": {},
   "source": [
    "We are in luck, there doesn't seem to be any missing values. For an easier data handling, it is worth to transform the **datetime** column into columns of **year**, **month**, **day** and **hour**. We can define a function for this that uses the *datetime* package."
   ]
  },
  {
   "cell_type": "code",
   "execution_count": 6,
   "metadata": {
    "collapsed": true
   },
   "outputs": [],
   "source": [
    "# Extracting date and time: we create Year, Month, Day, Hour features\n",
    "\n",
    "def datetime_breakdown(datetime_item):\n",
    "    datetime_obj = datetime.datetime.strptime(datetime_item, '%Y-%m-%d %H:%M:%S')\n",
    "    \n",
    "    year = datetime_obj.year\n",
    "    month = datetime_obj.month\n",
    "    day = datetime_obj.day\n",
    "    hour = datetime_obj.hour\n",
    "    \n",
    "    return (year, month, day, hour)\n",
    "\n",
    "# Create corresponding columns\n",
    "\n",
    "train_df['datetime_extr'] = train_df['datetime'].map(datetime_breakdown)\n",
    "date_parts = ['year', 'month', 'day', 'hour']\n",
    "\n",
    "for index in range(4):\n",
    "    \n",
    "    time_type = date_parts[index]\n",
    "    train_df[time_type] = train_df['datetime_extr'].map(lambda item: item[index])\n",
    "\n",
    "# Drop the obsolete columns\n",
    "train_df.drop('datetime', inplace=True, axis=1)\n",
    "train_df.drop('datetime_extr', inplace=True, axis=1)\n",
    "\n",
    "# For a nicer layout, we rearrange the columns, putting the date and time in the start as it was originally\n",
    "oldcols = train_df.columns.tolist()\n",
    "newcols = oldcols[11:15] + oldcols[0:11]\n",
    "\n",
    "train_df = train_df[newcols]\n"
   ]
  },
  {
   "cell_type": "code",
   "execution_count": 7,
   "metadata": {},
   "outputs": [
    {
     "data": {
      "text/html": [
       "<div>\n",
       "<style>\n",
       "    .dataframe thead tr:only-child th {\n",
       "        text-align: right;\n",
       "    }\n",
       "\n",
       "    .dataframe thead th {\n",
       "        text-align: left;\n",
       "    }\n",
       "\n",
       "    .dataframe tbody tr th {\n",
       "        vertical-align: top;\n",
       "    }\n",
       "</style>\n",
       "<table border=\"1\" class=\"dataframe\">\n",
       "  <thead>\n",
       "    <tr style=\"text-align: right;\">\n",
       "      <th></th>\n",
       "      <th>year</th>\n",
       "      <th>month</th>\n",
       "      <th>day</th>\n",
       "      <th>hour</th>\n",
       "      <th>season</th>\n",
       "      <th>holiday</th>\n",
       "      <th>workingday</th>\n",
       "      <th>weather</th>\n",
       "      <th>temp</th>\n",
       "      <th>atemp</th>\n",
       "      <th>humidity</th>\n",
       "      <th>windspeed</th>\n",
       "      <th>casual</th>\n",
       "      <th>registered</th>\n",
       "      <th>count</th>\n",
       "    </tr>\n",
       "  </thead>\n",
       "  <tbody>\n",
       "    <tr>\n",
       "      <th>0</th>\n",
       "      <td>2011</td>\n",
       "      <td>1</td>\n",
       "      <td>1</td>\n",
       "      <td>0</td>\n",
       "      <td>1</td>\n",
       "      <td>0</td>\n",
       "      <td>0</td>\n",
       "      <td>1</td>\n",
       "      <td>9.84</td>\n",
       "      <td>14.395</td>\n",
       "      <td>81</td>\n",
       "      <td>0.0</td>\n",
       "      <td>3</td>\n",
       "      <td>13</td>\n",
       "      <td>16</td>\n",
       "    </tr>\n",
       "    <tr>\n",
       "      <th>1</th>\n",
       "      <td>2011</td>\n",
       "      <td>1</td>\n",
       "      <td>1</td>\n",
       "      <td>1</td>\n",
       "      <td>1</td>\n",
       "      <td>0</td>\n",
       "      <td>0</td>\n",
       "      <td>1</td>\n",
       "      <td>9.02</td>\n",
       "      <td>13.635</td>\n",
       "      <td>80</td>\n",
       "      <td>0.0</td>\n",
       "      <td>8</td>\n",
       "      <td>32</td>\n",
       "      <td>40</td>\n",
       "    </tr>\n",
       "    <tr>\n",
       "      <th>2</th>\n",
       "      <td>2011</td>\n",
       "      <td>1</td>\n",
       "      <td>1</td>\n",
       "      <td>2</td>\n",
       "      <td>1</td>\n",
       "      <td>0</td>\n",
       "      <td>0</td>\n",
       "      <td>1</td>\n",
       "      <td>9.02</td>\n",
       "      <td>13.635</td>\n",
       "      <td>80</td>\n",
       "      <td>0.0</td>\n",
       "      <td>5</td>\n",
       "      <td>27</td>\n",
       "      <td>32</td>\n",
       "    </tr>\n",
       "    <tr>\n",
       "      <th>3</th>\n",
       "      <td>2011</td>\n",
       "      <td>1</td>\n",
       "      <td>1</td>\n",
       "      <td>3</td>\n",
       "      <td>1</td>\n",
       "      <td>0</td>\n",
       "      <td>0</td>\n",
       "      <td>1</td>\n",
       "      <td>9.84</td>\n",
       "      <td>14.395</td>\n",
       "      <td>75</td>\n",
       "      <td>0.0</td>\n",
       "      <td>3</td>\n",
       "      <td>10</td>\n",
       "      <td>13</td>\n",
       "    </tr>\n",
       "    <tr>\n",
       "      <th>4</th>\n",
       "      <td>2011</td>\n",
       "      <td>1</td>\n",
       "      <td>1</td>\n",
       "      <td>4</td>\n",
       "      <td>1</td>\n",
       "      <td>0</td>\n",
       "      <td>0</td>\n",
       "      <td>1</td>\n",
       "      <td>9.84</td>\n",
       "      <td>14.395</td>\n",
       "      <td>75</td>\n",
       "      <td>0.0</td>\n",
       "      <td>0</td>\n",
       "      <td>1</td>\n",
       "      <td>1</td>\n",
       "    </tr>\n",
       "  </tbody>\n",
       "</table>\n",
       "</div>"
      ],
      "text/plain": [
       "   year  month  day  hour  season  holiday  workingday  weather  temp   atemp  \\\n",
       "0  2011      1    1     0       1        0           0        1  9.84  14.395   \n",
       "1  2011      1    1     1       1        0           0        1  9.02  13.635   \n",
       "2  2011      1    1     2       1        0           0        1  9.02  13.635   \n",
       "3  2011      1    1     3       1        0           0        1  9.84  14.395   \n",
       "4  2011      1    1     4       1        0           0        1  9.84  14.395   \n",
       "\n",
       "   humidity  windspeed  casual  registered  count  \n",
       "0        81        0.0       3          13     16  \n",
       "1        80        0.0       8          32     40  \n",
       "2        80        0.0       5          27     32  \n",
       "3        75        0.0       3          10     13  \n",
       "4        75        0.0       0           1      1  "
      ]
     },
     "execution_count": 7,
     "metadata": {},
     "output_type": "execute_result"
    }
   ],
   "source": [
    "train_df.head()"
   ]
  },
  {
   "cell_type": "markdown",
   "metadata": {},
   "source": [
    "Our data is now in a format we can handle more easily. Let's see which parameters are relevant for predicting the rent count, and which ones can be thrown away."
   ]
  },
  {
   "cell_type": "markdown",
   "metadata": {},
   "source": [
    "# 2. Data exploration"
   ]
  },
  {
   "cell_type": "markdown",
   "metadata": {},
   "source": [
    "Our objective is to construct a model that predicts the parameter **count**, i.e., the number of bikes actually being hired. It is, however, apparent that **count** is the sum of **registered** and **casual** hires. It is very probable that **registered** and ** casual** are influenced more or less differently by the different features. For a registered rent, one would expect that people are less influenced by the momentary temperature and weather conditions, they rather plan according to the time of year. A casual rent, on the other hand, is usually something more spontaneous, influenced by the weather conditions on a given day, as well as that day being a workday or a holiday.\n",
    "\n",
    "So, let us not look directly at **count** but let us examine **registered** and **casual** separately, and, if there is sufficient reason for it, make two separate predictive models for them, and take the final prediction for **count** as the sum of the output of these two models.\n",
    "\n",
    "We examine the influence of a particular feature by averaging the value of a target feature over *all* the rest of the features. In this way, the influence of the other parameters is \"smudged\" and we only retain the trend set by the feature we are interested in. For example, let us say we want to understand the contribution of **month** to the **registered** counts. In order to do this, we divide the total data set into subsets, indexed by the values of **month**. This means, that a given subset contains observations that have been taken in the same month. Subsequently, we take the average value of **registered** in each subset and as a result, we are left with a quantity depending only on the variation of the **month** feature."
   ]
  },
  {
   "cell_type": "code",
   "execution_count": 8,
   "metadata": {},
   "outputs": [
    {
     "data": {
      "text/html": [
       "<div>\n",
       "<style>\n",
       "    .dataframe thead tr:only-child th {\n",
       "        text-align: right;\n",
       "    }\n",
       "\n",
       "    .dataframe thead th {\n",
       "        text-align: left;\n",
       "    }\n",
       "\n",
       "    .dataframe tbody tr th {\n",
       "        vertical-align: top;\n",
       "    }\n",
       "</style>\n",
       "<table border=\"1\" class=\"dataframe\">\n",
       "  <thead>\n",
       "    <tr style=\"text-align: right;\">\n",
       "      <th></th>\n",
       "      <th>year</th>\n",
       "      <th>counts</th>\n",
       "      <th>count_type</th>\n",
       "    </tr>\n",
       "  </thead>\n",
       "  <tbody>\n",
       "    <tr>\n",
       "      <th>0</th>\n",
       "      <td>2011</td>\n",
       "      <td>115.485430</td>\n",
       "      <td>registered</td>\n",
       "    </tr>\n",
       "    <tr>\n",
       "      <th>1</th>\n",
       "      <td>2012</td>\n",
       "      <td>195.310944</td>\n",
       "      <td>registered</td>\n",
       "    </tr>\n",
       "    <tr>\n",
       "      <th>2</th>\n",
       "      <td>2011</td>\n",
       "      <td>28.737920</td>\n",
       "      <td>casual</td>\n",
       "    </tr>\n",
       "    <tr>\n",
       "      <th>3</th>\n",
       "      <td>2012</td>\n",
       "      <td>43.250000</td>\n",
       "      <td>casual</td>\n",
       "    </tr>\n",
       "  </tbody>\n",
       "</table>\n",
       "</div>"
      ],
      "text/plain": [
       "   year      counts  count_type\n",
       "0  2011  115.485430  registered\n",
       "1  2012  195.310944  registered\n",
       "2  2011   28.737920      casual\n",
       "3  2012   43.250000      casual"
      ]
     },
     "execution_count": 8,
     "metadata": {},
     "output_type": "execute_result"
    }
   ],
   "source": [
    "def grouped_mean_DF(df, grouping_feature, target_name, hue_name, hue_features):\n",
    "    \n",
    "    # This function creates a DataFrame that simplifies the visualization of the effect that  a single feature \n",
    "    # ('grouping feature') has upon the target variable(s). 'target name' is the header of the column containing all target\n",
    "    # variable values, 'hue name' is the column header containing the 'hue feature's which indicate the types of the different\n",
    "    # target variable values.\n",
    "    \n",
    "    # With this, it's easy to show and compare the effect of 'grouping_feature' on the different types of target variables\n",
    "    # in the same plot.\n",
    "    \n",
    "    # The construction takes two steps. \n",
    "    # First, we group the original data set according to 'grouping_feature', and then we average them.\n",
    "    \n",
    "    grouping_feature_values = list(set(df[grouping_feature]))\n",
    "    grouping_feature_values.sort()\n",
    "    grouped_mean = df.groupby(grouping_feature).mean()\n",
    "    \n",
    "    # Next, we construct the DataFrame that will contain the averaged target feature values, indexed by the target feature types\n",
    "    # (i.e., the 'hue_features')\n",
    "    grouped_mean_df = pd.DataFrame()\n",
    "    \n",
    "    grouping_list=[]\n",
    "    target_list = []\n",
    "    hue_list=[]\n",
    "    \n",
    "    for item in hue_features:\n",
    "        grouping_list += grouping_feature_values\n",
    "        target_list += list(grouped_mean[item])\n",
    "        hue_list += len(grouping_feature_values) * [item]\n",
    "    \n",
    "    grouped_mean_df[grouping_feature] = grouping_list\n",
    "    grouped_mean_df[target_name] = target_list\n",
    "    grouped_mean_df[hue_name] = hue_list\n",
    "    \n",
    "    return grouped_mean_df\n",
    "\n",
    "# As an example, here is the two kinds of averaged hire counts, projected on the years\n",
    "grouped_by_year = grouped_mean_DF(train_df, 'year', 'counts', 'count_type', ['registered', 'casual'])\n",
    "grouped_by_year.head()"
   ]
  },
  {
   "cell_type": "markdown",
   "metadata": {},
   "source": [
    "## 2.1. Year"
   ]
  },
  {
   "cell_type": "markdown",
   "metadata": {},
   "source": [
    "We have data for years 2011 and 2012 which provides only two data points. Still, let us look at the average hire count for **registered** and **casual**."
   ]
  },
  {
   "cell_type": "code",
   "execution_count": 9,
   "metadata": {},
   "outputs": [
    {
     "data": {
      "image/png": "[encoded data removed]",
      "text/plain": [
       "<matplotlib.figure.Figure at 0x1c5d8ce8a90>"
      ]
     },
     "metadata": {},
     "output_type": "display_data"
    }
   ],
   "source": [
    "by_year_df = grouped_mean_DF(train_df, 'year', 'average counts', 'count type', ['registered', 'casual'])\n",
    "\n",
    "fig, ax1 = plt.subplots(1, 1, figsize=(10,5))\n",
    "sns.pointplot(x='year', y='average counts', data=by_year_df, hue='count type')\n",
    "\n",
    "ax1.set_ylabel('average counts')\n",
    "\n",
    "plt.savefig('data_year.pdf')"
   ]
  },
  {
   "cell_type": "markdown",
   "metadata": {},
   "source": [
    "Apparently, the bike service has almost doubled its popularity from 2011 to 2012! Both for **casual** and **registered** customer behaviour, the **year** parameter seems to be a meaningful one."
   ]
  },
  {
   "cell_type": "markdown",
   "metadata": {},
   "source": [
    "## 2.2. Month"
   ]
  },
  {
   "cell_type": "markdown",
   "metadata": {},
   "source": [
    "For a person who plans their bike hires in advance, it must be important what time of year it is. Let's see how significant **month** is for the registered, as well as for casual users. "
   ]
  },
  {
   "cell_type": "code",
   "execution_count": 10,
   "metadata": {},
   "outputs": [
    {
     "data": {
      "image/png": "[encoded data removed]",
      "text/plain": [
       "<matplotlib.figure.Figure at 0x1c5d8921518>"
      ]
     },
     "metadata": {},
     "output_type": "display_data"
    }
   ],
   "source": [
    "by_month_df = grouped_mean_DF(train_df, 'month', 'average counts', 'count type', ['registered', 'casual'])\n",
    "\n",
    "by_temp_month_df = grouped_mean_DF(train_df, 'month', 'average temp', 'temp type', ['temp'])\n",
    "\n",
    "fig, (ax1, ax2) = plt.subplots(1, 2, figsize=(15, 5))\n",
    "\n",
    "sns.regplot(x='month', y='average counts',  data=by_month_df[by_month_df['count type'] == 'registered'],\n",
    "            fit_reg=False, scatter_kws={'s':50}, ax=ax1)\n",
    "sns.regplot(x='month', y='average counts',  data=by_month_df[by_month_df['count type'] == 'casual'],\n",
    "            fit_reg=False, scatter_kws={'s':50}, ax=ax2)\n",
    "\n",
    "\n",
    "ax1.set_title('registered')\n",
    "ax1.set_xticks(list(range(2, 13, 2)))\n",
    "ax1.set_ylim(0, 200)\n",
    "\n",
    "ax2.set_title('casual')\n",
    "ax2.set_xticks(list(range(2, 13, 2)))\n",
    "ax2.set_ylim(0,200)\n",
    "\n",
    "plt.savefig('data_month.pdf')"
   ]
  },
  {
   "cell_type": "markdown",
   "metadata": {
    "collapsed": true
   },
   "source": [
    "It seems that **month** is a relevant feature for both types of count. However, we can see some difference in their behaviour: the average **registered** count always stays above 75 and at the end of the year it only falls back moderately compared to its peak value. However, **casual** seems to reflect more the expected weather conditions during the year: in the winter months it is close to zero, and as it gets warmer, it increases. \n",
    "\n",
    "Thus, **month** seems to be a *relevant* feature for *both* types of counts."
   ]
  },
  {
   "cell_type": "markdown",
   "metadata": {},
   "source": [
    "## 2.3. Day"
   ]
  },
  {
   "cell_type": "markdown",
   "metadata": {},
   "source": [
    "Let's take a look at the average hire counts as functions of **day**. "
   ]
  },
  {
   "cell_type": "code",
   "execution_count": 11,
   "metadata": {},
   "outputs": [
    {
     "data": {
      "image/png": "[encoded data removed]",
      "text/plain": [
       "<matplotlib.figure.Figure at 0x1c5d9012908>"
      ]
     },
     "metadata": {},
     "output_type": "display_data"
    }
   ],
   "source": [
    "by_day_df = grouped_mean_DF(train_df, 'day', 'average counts', 'count type', ['registered', 'casual'])\n",
    "\n",
    "sns.lmplot(x='day', y='average counts', hue='count type', data=by_day_df, fit_reg=True, scatter_kws={'s':50})\n",
    "plt.xlim([0.5, 20])\n",
    "\n",
    "plt.savefig('data_day.pdf')"
   ]
  },
  {
   "cell_type": "markdown",
   "metadata": {},
   "source": [
    "As opposed to **month**, it seems that there is not much going on here. The behaviour for both **registered** and **casual** is pretty flat, if we fit a linear function on them, for **casual** we get an almost 0 slope, and for **registered** we observe a slight increase towards to second half of the month. \n",
    "\n",
    "Since there is no significant variation here, **day** *does not seem to be an important feature* for either **registered** or **casual**. "
   ]
  },
  {
   "cell_type": "markdown",
   "metadata": {},
   "source": [
    "## 2.4. Hour"
   ]
  },
  {
   "cell_type": "markdown",
   "metadata": {},
   "source": [
    "What about the time of day? We expect that, since humans have schedules and a certain daily rhythm, the variation of hours plays an important role in the expected values of hired bikes."
   ]
  },
  {
   "cell_type": "code",
   "execution_count": 12,
   "metadata": {},
   "outputs": [
    {
     "data": {
      "image/png": "[encoded data removed]",
      "text/plain": [
       "<matplotlib.figure.Figure at 0x1c5d9012eb8>"
      ]
     },
     "metadata": {},
     "output_type": "display_data"
    }
   ],
   "source": [
    "by_hour_df = grouped_mean_DF(train_df, 'hour', 'average counts', 'count type', ['registered', 'casual'])\n",
    "\n",
    "fig, (ax1, ax2) = plt.subplots(1, 2, figsize=(15, 5))\n",
    "\n",
    "sns.regplot(x='hour', y='average counts', data=by_hour_df[by_hour_df['count type']=='registered'], fit_reg=False, scatter_kws={'s':50}, ax=ax1)\n",
    "sns.regplot(x='hour', y='average counts', data=by_hour_df[by_hour_df['count type']=='casual'], fit_reg=False, scatter_kws={'s':50}, ax=ax2)\n",
    "\n",
    "ax1.set_title('registered')\n",
    "ax1.set_xlim([-0.5, 24.5])\n",
    "ax1.set_ylim([0, 500])\n",
    "\n",
    "ax2.set_title('casual')\n",
    "ax2.set_xlim([-0.5, 24.5])\n",
    "ax2.set_ylim([0, 150])\n",
    "\n",
    "plt.savefig('data_hour.pdf')"
   ]
  },
  {
   "cell_type": "markdown",
   "metadata": {},
   "source": [
    "And indeed it does! One sees a substantial variation in the average count during the 24 hours of a day. It is different, though, for the two types of hire. For **registered**, we observe two peaks during the day: one in the morning around 7:00 and another in the afternoon around 17:00. We can surmise that registered clients take out bikes either in the morning before work, or in the afternoon after work. For **casual**, we get a single, broad peak that reaches from morning till afternoon. \n",
    "\n",
    "It is apparent that **hour** is an important feature for both **registered** and **casual**."
   ]
  },
  {
   "cell_type": "markdown",
   "metadata": {},
   "source": [
    "## 2.5. Season"
   ]
  },
  {
   "cell_type": "markdown",
   "metadata": {},
   "source": [
    "Common sense suggests that the feature **season** should not bring in any new information compared to **month**, since knowing the given month, we automatically know the season."
   ]
  },
  {
   "cell_type": "code",
   "execution_count": 13,
   "metadata": {},
   "outputs": [
    {
     "data": {
      "image/png": "[encoded data removed]",
      "text/plain": [
       "<matplotlib.figure.Figure at 0x1c5d8d39c18>"
      ]
     },
     "metadata": {},
     "output_type": "display_data"
    }
   ],
   "source": [
    "by_season_df = grouped_mean_DF(train_df, 'season', 'average counts', 'count type', ['registered', 'casual'])\n",
    "\n",
    "fig, (ax1, ax2) = plt.subplots(1, 2, figsize=(15, 5))\n",
    "\n",
    "sns.regplot(x='season', y='average counts', data=by_season_df[by_season_df['count type']=='registered'],\n",
    "            fit_reg=False, scatter_kws={'s':100}, ax=ax1)\n",
    "sns.regplot(x='season', y='average counts', data=by_season_df[by_season_df['count type']=='casual'], \n",
    "            fit_reg=False, scatter_kws={'s':100}, ax=ax2)\n",
    "\n",
    "ax1.set_title('registered')\n",
    "ax2.set_title('casual')\n",
    "\n",
    "ax1.set_xticks([1, 2, 3, 4])\n",
    "ax2.set_xticks([1, 2, 3, 4])\n",
    "\n",
    "plt.savefig('data_season.pdf')"
   ]
  },
  {
   "cell_type": "markdown",
   "metadata": {},
   "source": [
    "Indeed, comparing these graphs with those in **2.2.**, we see a practically identical behaviour. Including **season** in our model will not give additional information compared to what we have from **month**. For that reason, we can *discard* **season** from the list of significant parameters."
   ]
  },
  {
   "cell_type": "markdown",
   "metadata": {},
   "source": [
    "## 2.6. Holiday/Workday"
   ]
  },
  {
   "cell_type": "markdown",
   "metadata": {},
   "source": [
    "**day** as a number did not have a strong influence on the hire counts, however, it might make a difference if a day is **holiday** or a **workingday**."
   ]
  },
  {
   "cell_type": "code",
   "execution_count": 14,
   "metadata": {},
   "outputs": [
    {
     "data": {
      "image/png": "[encoded data removed]",
      "text/plain": [
       "<matplotlib.figure.Figure at 0x1c5d8b87eb8>"
      ]
     },
     "metadata": {},
     "output_type": "display_data"
    }
   ],
   "source": [
    "by_holiday_df = grouped_mean_DF(train_df, 'holiday', 'average count', 'count type', ['registered', 'casual'])\n",
    "by_workingday_df = grouped_mean_DF(train_df, 'workingday', 'average count', 'count type', ['registered', 'casual'])\n",
    "\n",
    "fig, (ax1, ax2) = plt.subplots(1, 2, figsize =(15, 5) )\n",
    "\n",
    "sns.pointplot(x='workingday', y='average count', hue = 'count type', data=by_workingday_df, ax=ax1)\n",
    "sns.pointplot(x='holiday', y='average count', hue = 'count type', data=by_holiday_df, ax=ax2)\n",
    "\n",
    "ax1.set_ylabel('average count')\n",
    "ax2.set_ylabel('average count')\n",
    "\n",
    "plt.savefig('data_holiday_workday.pdf')"
   ]
  },
  {
   "cell_type": "markdown",
   "metadata": {},
   "source": [
    "As one would expect, it is more likely that it is **registered** clients who use bikes on workdays. **casual** customers, who rather use a bike for recreational activities, will more likely come in during weekends and holidays.\n",
    "\n",
    "Both **workingday** and **holiday** seem to be significant parameters: we include them in the model."
   ]
  },
  {
   "cell_type": "markdown",
   "metadata": {},
   "source": [
    "## 2.7. Weather \n",
    "### (*1: clear or cloudy*, *2: misty*, *3: light rain or snow*, *4: Heavy rain or snow*)"
   ]
  },
  {
   "cell_type": "markdown",
   "metadata": {},
   "source": [
    "How does **weather** affect the two types of hires? One would expect a strong dependence of **casual** hires on weather since good weather is a potential motivation for people to decide for taking out a bike spontaneously. **registered** should at least have a much weaker dependence on **weather**, if any at all."
   ]
  },
  {
   "cell_type": "code",
   "execution_count": 15,
   "metadata": {},
   "outputs": [
    {
     "data": {
      "image/png": "[encoded data removed]",
      "text/plain": [
       "<matplotlib.figure.Figure at 0x1c5d8e9f588>"
      ]
     },
     "metadata": {},
     "output_type": "display_data"
    }
   ],
   "source": [
    "by_weather_df = grouped_mean_DF(train_df, 'weather', 'average counts', 'count type', ['registered', 'casual'])\n",
    "\n",
    "fig, (ax1, ax2) = plt.subplots(1, 2, figsize=(15, 5))\n",
    "\n",
    "sns.regplot(x='weather', y='average counts', data=by_weather_df[by_weather_df['count type']=='registered'],\n",
    "            fit_reg=False, scatter_kws={'s':100}, ax=ax1)\n",
    "sns.regplot(x='weather', y='average counts', data=by_weather_df[by_weather_df['count type']=='casual'], \n",
    "            fit_reg=True, scatter_kws={'s':100}, ax=ax2)\n",
    "\n",
    "ax1.set_title('registered')\n",
    "ax2.set_title('casual')\n",
    "\n",
    "ax1.set_xticks([1, 2, 3, 4])\n",
    "ax2.set_xticks([1, 2, 3, 4])\n",
    "\n",
    "ax1.set_ylim([0, 180])\n",
    "ax2.set_ylim([0,180])\n",
    "\n",
    "plt.savefig('data_weather.pdf')"
   ]
  },
  {
   "cell_type": "markdown",
   "metadata": {},
   "source": [
    "The difference in behaviour is apparent. **registered** has practically no dependence on the momentary weather conditions: we have about the same average value for *clear or cloudy* and *heavy rain/snow*, and a lower value for *light rain/snow* than for *heavy rain/snow*. Therefore, we can *discard* **weather** from the list of significant parameters for **registered**.\n",
    "\n",
    "However, in case of **casual**, we see a steady decline in the number of hires as the weather gets worse and worse - it is practically a linear relationship. **weather** is an *important parameter* for predicting **casual**."
   ]
  },
  {
   "cell_type": "markdown",
   "metadata": {},
   "source": [
    "## 2.8. Temp, Humidity and Windspeed combined: Atemp"
   ]
  },
  {
   "cell_type": "markdown",
   "metadata": {},
   "source": [
    "Since **atemp** (apparent temperature) is calculated from measured **temperature**, **humidity** and **windspeed**, we can reduce the number of features without much loss of information if we keep **atemp** and discard the other three. "
   ]
  },
  {
   "cell_type": "code",
   "execution_count": 16,
   "metadata": {
    "scrolled": true
   },
   "outputs": [
    {
     "data": {
      "image/png": "[encoded data removed]",
      "text/plain": [
       "<matplotlib.figure.Figure at 0x1c5d90b6c50>"
      ]
     },
     "metadata": {},
     "output_type": "display_data"
    }
   ],
   "source": [
    "by_atemp_df = grouped_mean_DF(train_df, 'atemp', 'average counts', 'count type', ['registered', 'casual'])\n",
    "\n",
    "fig, (ax1, ax2) = plt.subplots(1, 2, figsize=(15, 5))\n",
    "\n",
    "sns.regplot(x='atemp', y='average counts', data=by_atemp_df[by_atemp_df['count type']=='registered'],\n",
    "            fit_reg=False, scatter_kws={'s':50}, ax=ax1)\n",
    "sns.regplot(x='atemp', y='average counts', data=by_atemp_df[by_atemp_df['count type']=='casual'], \n",
    "            fit_reg=False, scatter_kws={'s':50}, ax=ax2)\n",
    "\n",
    "ax1.set_title('registered')\n",
    "ax2.set_title('casual')\n",
    "\n",
    "plt.savefig('data_atemp.pdf')"
   ]
  },
  {
   "cell_type": "markdown",
   "metadata": {},
   "source": [
    "We can see a clear dependence on the momentary apparent temperature both for **registered** and **casual**. For the latter, it makes complete sense, since momentary weather conditions have a strong effect on a decision to spontaneously hire a bike. But what about **registered**? Well, we have seen that there was very little correlation between momentary **weather** and **registered**. But we know that there is a strong causal connection between **month** and **registered**. Since there are warmer and colder months in the year, the correlation between **registered** and **atemp** is most likely due to the correlation between **month** and **temp**. Therefore, keeping **atemp** as a feature for predicting **registered** would not bring us a significant amount of information.\n",
    "\n",
    "Thus, we will *discard* **atemp** from the predictors for **registered**, but *keep* it for the model for **casual**."
   ]
  },
  {
   "cell_type": "markdown",
   "metadata": {},
   "source": [
    "## 2.9. Significant features\n",
    "\n",
    "All these considered, **registered** and **casual** depend strongly on the following features:\n",
    "\n",
    "### Registered:\n",
    "\n",
    "* year\n",
    "* month\n",
    "* hour\n",
    "* holiday\n",
    "* workingday\n",
    "\n",
    "### Casual:\n",
    "\n",
    "* year\n",
    "* month\n",
    "* hour\n",
    "* holiday\n",
    "* workingday\n",
    "* weather\n",
    "* atemp"
   ]
  },
  {
   "cell_type": "markdown",
   "metadata": {},
   "source": [
    "# 3. Model construction"
   ]
  },
  {
   "cell_type": "markdown",
   "metadata": {},
   "source": [
    "Based on what we have seen above, we can choose at least two ways to proceed. We can construct two separate models predicting **casual** and **registered**, and take the sum of the separate predictions as a prognose for **count**. Alternately, we can construct a single model that predicts **count** in one go. We will do both, and choose the method giving the better result. "
   ]
  },
  {
   "cell_type": "markdown",
   "metadata": {
    "collapsed": true
   },
   "source": [
    "## 3.1. Regression with Random Forests"
   ]
  },
  {
   "cell_type": "markdown",
   "metadata": {},
   "source": [
    "We will use a Random Forest Regressor to predict **count**, since most of our features (the only exception being **atemp**) are variables that assume a few discreet values, instead of being continuous. For the cross-validation procedure we make a parameter grid where the maximal amount of features for a split in a tree, the maximal depth (leaf number) of the individual trees and the number of the trees in the forest are varied to find the best model."
   ]
  },
  {
   "cell_type": "code",
   "execution_count": 23,
   "metadata": {
    "collapsed": true
   },
   "outputs": [],
   "source": [
    "forest_regressor = RandomForestRegressor()\n",
    "\n",
    "param_grid = {\n",
    "    'max_features' :['auto', 'sqrt'],\n",
    "    'max_depth' : [14, 15, 16],\n",
    "    'n_estimators' : list(range(250, 350, 10))\n",
    "}\n",
    "\n",
    "grid_search = GridSearchCV(forest_regressor, param_grid, cv=5)"
   ]
  },
  {
   "cell_type": "markdown",
   "metadata": {},
   "source": [
    "Great, we have prepared everything! Let's unleash the regressor on our data sets. "
   ]
  },
  {
   "cell_type": "markdown",
   "metadata": {},
   "source": [
    "## 3.2. Separate predictions for **casual** and **registered**"
   ]
  },
  {
   "cell_type": "markdown",
   "metadata": {},
   "source": [
    "We create the arrays containing the predictors and the target variables belonging to **casual** and **registered** separately. Subsequently, we split both data sets into train and test sets."
   ]
  },
  {
   "cell_type": "code",
   "execution_count": 28,
   "metadata": {
    "collapsed": true
   },
   "outputs": [],
   "source": [
    "data_casual = train_df[['year', 'month', 'hour', 'holiday', 'workingday', 'weather', 'atemp']]\n",
    "data_registered = train_df[['year', 'month', 'hour', 'holiday', 'workingday']]\n",
    "\n",
    "target_casual = train_df['casual']\n",
    "target_registered = train_df['registered']\n",
    "\n",
    "X_train_c, X_test_c, Y_train_c, Y_test_c = train_test_split(data_casual, target_casual, test_size=0.4, random_state=0)\n",
    "X_train_r, X_test_r, Y_train_r, Y_test_r = train_test_split(data_registered, target_registered, test_size=0.4, random_state=0)"
   ]
  },
  {
   "cell_type": "markdown",
   "metadata": {},
   "source": [
    "For **casual**:"
   ]
  },
  {
   "cell_type": "markdown",
   "metadata": {},
   "source": [
    "We let the model train, based on the train data."
   ]
  },
  {
   "cell_type": "code",
   "execution_count": 29,
   "metadata": {},
   "outputs": [
    {
     "data": {
      "text/plain": [
       "GridSearchCV(cv=5, error_score='raise',\n",
       "       estimator=RandomForestRegressor(bootstrap=True, criterion='mse', max_depth=None,\n",
       "           max_features='auto', max_leaf_nodes=None,\n",
       "           min_impurity_decrease=0.0, min_impurity_split=None,\n",
       "           min_samples_leaf=1, min_samples_split=2,\n",
       "           min_weight_fraction_leaf=0.0, n_estimators=10, n_jobs=1,\n",
       "           oob_score=False, random_state=None, verbose=0, warm_start=False),\n",
       "       fit_params=None, iid=True, n_jobs=1,\n",
       "       param_grid={'max_features': ['auto', 'sqrt'], 'max_depth': [14, 15, 16], 'n_estimators': [250, 260, 270, 280, 290, 300, 310, 320, 330, 340]},\n",
       "       pre_dispatch='2*n_jobs', refit=True, return_train_score='warn',\n",
       "       scoring=None, verbose=0)"
      ]
     },
     "execution_count": 29,
     "metadata": {},
     "output_type": "execute_result"
    }
   ],
   "source": [
    "grid_search.fit(X_train_c, Y_train_c)"
   ]
  },
  {
   "cell_type": "markdown",
   "metadata": {},
   "source": [
    "Let's take a look at the parameters associated with the best score, and the score itself."
   ]
  },
  {
   "cell_type": "code",
   "execution_count": 30,
   "metadata": {},
   "outputs": [
    {
     "data": {
      "text/plain": [
       "{'max_depth': 15, 'max_features': 'sqrt', 'n_estimators': 330}"
      ]
     },
     "execution_count": 30,
     "metadata": {},
     "output_type": "execute_result"
    }
   ],
   "source": [
    "grid_search.best_params_"
   ]
  },
  {
   "cell_type": "code",
   "execution_count": 31,
   "metadata": {},
   "outputs": [
    {
     "data": {
      "text/plain": [
       "0.89403653293503371"
      ]
     },
     "execution_count": 31,
     "metadata": {},
     "output_type": "execute_result"
    }
   ],
   "source": [
    "grid_search.best_score_"
   ]
  },
  {
   "cell_type": "markdown",
   "metadata": {},
   "source": [
    "If we apply the cross-validated model on the test set, we get"
   ]
  },
  {
   "cell_type": "code",
   "execution_count": 32,
   "metadata": {},
   "outputs": [
    {
     "data": {
      "text/plain": [
       "0.88881465721882058"
      ]
     },
     "execution_count": 32,
     "metadata": {},
     "output_type": "execute_result"
    }
   ],
   "source": [
    "grid_search.score(X_test_c, Y_test_c)"
   ]
  },
  {
   "cell_type": "markdown",
   "metadata": {},
   "source": [
    "For **registered**: we follow the same steps."
   ]
  },
  {
   "cell_type": "code",
   "execution_count": 33,
   "metadata": {},
   "outputs": [
    {
     "data": {
      "text/plain": [
       "GridSearchCV(cv=5, error_score='raise',\n",
       "       estimator=RandomForestRegressor(bootstrap=True, criterion='mse', max_depth=None,\n",
       "           max_features='auto', max_leaf_nodes=None,\n",
       "           min_impurity_decrease=0.0, min_impurity_split=None,\n",
       "           min_samples_leaf=1, min_samples_split=2,\n",
       "           min_weight_fraction_leaf=0.0, n_estimators=10, n_jobs=1,\n",
       "           oob_score=False, random_state=None, verbose=0, warm_start=False),\n",
       "       fit_params=None, iid=True, n_jobs=1,\n",
       "       param_grid={'max_features': ['auto', 'sqrt'], 'max_depth': [14, 15, 16], 'n_estimators': [250, 260, 270, 280, 290, 300, 310, 320, 330, 340]},\n",
       "       pre_dispatch='2*n_jobs', refit=True, return_train_score='warn',\n",
       "       scoring=None, verbose=0)"
      ]
     },
     "execution_count": 33,
     "metadata": {},
     "output_type": "execute_result"
    }
   ],
   "source": [
    "grid_search.fit(X_train_r, Y_train_r)"
   ]
  },
  {
   "cell_type": "code",
   "execution_count": 34,
   "metadata": {},
   "outputs": [
    {
     "data": {
      "text/plain": [
       "{'max_depth': 14, 'max_features': 'sqrt', 'n_estimators': 250}"
      ]
     },
     "execution_count": 34,
     "metadata": {},
     "output_type": "execute_result"
    }
   ],
   "source": [
    "grid_search.best_params_"
   ]
  },
  {
   "cell_type": "code",
   "execution_count": 35,
   "metadata": {},
   "outputs": [
    {
     "data": {
      "text/plain": [
       "0.89661594210806794"
      ]
     },
     "execution_count": 35,
     "metadata": {},
     "output_type": "execute_result"
    }
   ],
   "source": [
    "grid_search.best_score_"
   ]
  },
  {
   "cell_type": "code",
   "execution_count": 36,
   "metadata": {},
   "outputs": [
    {
     "data": {
      "text/plain": [
       "0.89042940651018465"
      ]
     },
     "execution_count": 36,
     "metadata": {},
     "output_type": "execute_result"
    }
   ],
   "source": [
    "grid_search.score(X_test_r, Y_test_r)"
   ]
  },
  {
   "cell_type": "markdown",
   "metadata": {},
   "source": [
    "Both models give an **R^2 score of about 0.89** when applied to the test set. "
   ]
  },
  {
   "cell_type": "markdown",
   "metadata": {},
   "source": [
    "## 3.3. Predicting count directly"
   ]
  },
  {
   "cell_type": "markdown",
   "metadata": {},
   "source": [
    "According to the observed trends in the data sets, the significant parameters to predict **count** are"
   ]
  },
  {
   "cell_type": "markdown",
   "metadata": {},
   "source": [
    "**year**, **month**, **hour**, **holiday**, **workingday**, **weather**, **atemp**."
   ]
  },
  {
   "cell_type": "markdown",
   "metadata": {},
   "source": [
    "We can now create the arrays containing the predictors and the target variables. Subsequently, we split the total data set into train and test sets."
   ]
  },
  {
   "cell_type": "code",
   "execution_count": 37,
   "metadata": {
    "collapsed": true
   },
   "outputs": [],
   "source": [
    "data = train_df[['year', 'month', 'hour', 'holiday', 'workingday', 'weather', 'atemp']]\n",
    "target = train_df['count']\n",
    "\n",
    "X_train, X_test, Y_train, Y_test = train_test_split(data, target, test_size=0.4, random_state=0)\n"
   ]
  },
  {
   "cell_type": "code",
   "execution_count": 38,
   "metadata": {},
   "outputs": [
    {
     "data": {
      "text/plain": [
       "GridSearchCV(cv=5, error_score='raise',\n",
       "       estimator=RandomForestRegressor(bootstrap=True, criterion='mse', max_depth=None,\n",
       "           max_features='auto', max_leaf_nodes=None,\n",
       "           min_impurity_decrease=0.0, min_impurity_split=None,\n",
       "           min_samples_leaf=1, min_samples_split=2,\n",
       "           min_weight_fraction_leaf=0.0, n_estimators=10, n_jobs=1,\n",
       "           oob_score=False, random_state=None, verbose=0, warm_start=False),\n",
       "       fit_params=None, iid=True, n_jobs=1,\n",
       "       param_grid={'max_features': ['auto', 'sqrt'], 'max_depth': [14, 15, 16], 'n_estimators': [250, 260, 270, 280, 290, 300, 310, 320, 330, 340]},\n",
       "       pre_dispatch='2*n_jobs', refit=True, return_train_score='warn',\n",
       "       scoring=None, verbose=0)"
      ]
     },
     "execution_count": 38,
     "metadata": {},
     "output_type": "execute_result"
    }
   ],
   "source": [
    "grid_search.fit(X_train, Y_train)"
   ]
  },
  {
   "cell_type": "markdown",
   "metadata": {},
   "source": [
    "The parameter set and the score belonging to the best configuration are"
   ]
  },
  {
   "cell_type": "code",
   "execution_count": 39,
   "metadata": {},
   "outputs": [
    {
     "data": {
      "text/plain": [
       "{'max_depth': 14, 'max_features': 'auto', 'n_estimators': 330}"
      ]
     },
     "execution_count": 39,
     "metadata": {},
     "output_type": "execute_result"
    }
   ],
   "source": [
    "grid_search.best_params_"
   ]
  },
  {
   "cell_type": "code",
   "execution_count": 40,
   "metadata": {},
   "outputs": [
    {
     "data": {
      "text/plain": [
       "0.93162292334138674"
      ]
     },
     "execution_count": 40,
     "metadata": {},
     "output_type": "execute_result"
    }
   ],
   "source": [
    "grid_search.best_score_"
   ]
  },
  {
   "cell_type": "markdown",
   "metadata": {
    "collapsed": true
   },
   "source": [
    "Now that we have established the model, let us test it on the test set. "
   ]
  },
  {
   "cell_type": "code",
   "execution_count": 41,
   "metadata": {},
   "outputs": [
    {
     "data": {
      "text/plain": [
       "0.92559873386835756"
      ]
     },
     "execution_count": 41,
     "metadata": {},
     "output_type": "execute_result"
    }
   ],
   "source": [
    "grid_search.score(X_test, Y_test)"
   ]
  },
  {
   "cell_type": "markdown",
   "metadata": {},
   "source": [
    "The **R^2 score** given by this model on the test set is about **0.93**, which is significantly better than the prediction score of the former approach!"
   ]
  },
  {
   "cell_type": "markdown",
   "metadata": {},
   "source": [
    "## 3.4. Outlook to improve the model "
   ]
  },
  {
   "cell_type": "markdown",
   "metadata": {},
   "source": [
    "Besides choosing some other model that could produce better scores with the same features, one could do some feature engineering, and construct new variables based on the existing relevant ones, for example by multiplying them (**hour** x **month**, **hour** x **atemp**, **atemp** x **weather**). Another approach would be the creation of **dummy variables** which results in  a multitude of features assuming values of 1 or 0, and can potentially improve the results of the random forest procedure."
   ]
  },
  {
   "cell_type": "code",
   "execution_count": null,
   "metadata": {
    "collapsed": true
   },
   "outputs": [],
   "source": []
  }
 ],
 "metadata": {
  "anaconda-cloud": {},
  "kernelspec": {
   "display_name": "Python 3",
   "language": "python",
   "name": "python3"
  },
  "language_info": {
   "codemirror_mode": {
    "name": "ipython",
    "version": 3
   },
   "file_extension": ".py",
   "mimetype": "text/x-python",
   "name": "python",
   "nbconvert_exporter": "python",
   "pygments_lexer": "ipython3",
   "version": "3.6.3"
  }
 },
 "nbformat": 4,
 "nbformat_minor": 1
}
